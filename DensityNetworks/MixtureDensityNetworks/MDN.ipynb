{
 "cells": [
  {
   "cell_type": "code",
   "execution_count": 85,
   "metadata": {},
   "outputs": [],
   "source": [
    "from ucimlrepo import fetch_ucirepo, list_available_datasets\n",
    "import pandas as pd\n",
    "import torch\n",
    "import numpy as np"
   ]
  },
  {
   "cell_type": "code",
   "execution_count": 3,
   "metadata": {},
   "outputs": [
    {
     "name": "stdout",
     "output_type": "stream",
     "text": [
      "-------------------------------------\n",
      "The following datasets are available:\n",
      "-------------------------------------\n",
      "Dataset Name                                                                            ID    \n",
      "------------                                                                            --    \n",
      "Abalone                                                                                 1     \n",
      "Adult                                                                                   2     \n",
      "Annealing                                                                               3     \n",
      "Audiology (Standardized)                                                                8     \n",
      "Auto MPG                                                                                9     \n",
      "Automobile                                                                              10    \n",
      "Balance Scale                                                                           12    \n",
      "Balloons                                                                                13    \n",
      "Breast Cancer                                                                           14    \n",
      "Breast Cancer Wisconsin (Original)                                                      15    \n",
      "Breast Cancer Wisconsin (Prognostic)                                                    16    \n",
      "Breast Cancer Wisconsin (Diagnostic)                                                    17    \n",
      "Pittsburgh Bridges                                                                      18    \n",
      "Car Evaluation                                                                          19    \n",
      "Census Income                                                                           20    \n",
      "Chess (King-Rook vs. King-Pawn)                                                         22    \n",
      "Chess (King-Rook vs. King)                                                              23    \n",
      "Connect-4                                                                               26    \n",
      "Credit Approval                                                                         27    \n",
      "Japanese Credit Screening                                                               28    \n",
      "Computer Hardware                                                                       29    \n",
      "Contraceptive Method Choice                                                             30    \n",
      "Covertype                                                                               31    \n",
      "Cylinder Bands                                                                          32    \n",
      "Dermatology                                                                             33    \n",
      "Echocardiogram                                                                          38    \n",
      "Ecoli                                                                                   39    \n",
      "Flags                                                                                   40    \n",
      "Glass Identification                                                                    42    \n",
      "Haberman's Survival                                                                     43    \n",
      "Hayes-Roth                                                                              44    \n",
      "Heart Disease                                                                           45    \n",
      "Hepatitis                                                                               46    \n",
      "Horse Colic                                                                             47    \n",
      "Image Segmentation                                                                      50    \n",
      "Ionosphere                                                                              52    \n",
      "Iris                                                                                    53    \n",
      "ISOLET                                                                                  54    \n",
      "Lenses                                                                                  58    \n",
      "Letter Recognition                                                                      59    \n",
      "Liver Disorders                                                                         60    \n",
      "Lung Cancer                                                                             62    \n",
      "Lymphography                                                                            63    \n",
      "Molecular Biology (Splice-junction Gene Sequences)                                      69    \n",
      "MONK's Problems                                                                         70    \n",
      "Mushroom                                                                                73    \n",
      "Musk (Version 1)                                                                        74    \n",
      "Musk (Version 2)                                                                        75    \n",
      "Nursery                                                                                 76    \n",
      "Page Blocks Classification                                                              78    \n",
      "Optical Recognition of Handwritten Digits                                               80    \n",
      "Pen-Based Recognition of Handwritten Digits                                             81    \n",
      "Post-Operative Patient                                                                  82    \n",
      "Primary Tumor                                                                           83    \n",
      "Servo                                                                                   87    \n",
      "Shuttle Landing Control                                                                 88    \n",
      "Solar Flare                                                                             89    \n",
      "Soybean (Large)                                                                         90    \n",
      "Soybean (Small)                                                                         91    \n",
      "Challenger USA Space Shuttle O-Ring                                                     92    \n",
      "Spambase                                                                                94    \n",
      "SPECT Heart                                                                             95    \n",
      "SPECTF Heart                                                                            96    \n",
      "Tic-Tac-Toe Endgame                                                                     101   \n",
      "Congressional Voting Records                                                            105   \n",
      "Waveform Database Generator (Version 1)                                                 107   \n",
      "Wine                                                                                    109   \n",
      "Yeast                                                                                   110   \n",
      "Zoo                                                                                     111   \n",
      "US Census Data (1990)                                                                   116   \n",
      "Census-Income (KDD)                                                                     117   \n",
      "El Nino                                                                                 122   \n",
      "Statlog (Australian Credit Approval)                                                    143   \n",
      "Statlog (German Credit Data)                                                            144   \n",
      "Statlog (Heart)                                                                         145   \n",
      "Statlog (Landsat Satellite)                                                             146   \n",
      "Statlog (Image Segmentation)                                                            147   \n",
      "Statlog (Shuttle)                                                                       148   \n",
      "Statlog (Vehicle Silhouettes)                                                           149   \n",
      "Connectionist Bench (Sonar, Mines vs. Rocks)                                            151   \n",
      "Cloud                                                                                   155   \n",
      "Poker Hand                                                                              158   \n",
      "MAGIC Gamma Telescope                                                                   159   \n",
      "Mammographic Mass                                                                       161   \n",
      "Forest Fires                                                                            162   \n",
      "Concrete Compressive Strength                                                           165   \n",
      "Ozone Level Detection                                                                   172   \n",
      "Parkinsons                                                                              174   \n",
      "Blood Transfusion Service Center                                                        176   \n",
      "Communities and Crime                                                                   183   \n",
      "Acute Inflammations                                                                     184   \n",
      "Wine Quality                                                                            186   \n",
      "Parkinsons Telemonitoring                                                               189   \n",
      "Cardiotocography                                                                        193   \n",
      "Steel Plates Faults                                                                     198   \n",
      "Communities and Crime Unnormalized                                                      211   \n",
      "Vertebral Column                                                                        212   \n",
      "Bank Marketing                                                                          222   \n",
      "ILPD (Indian Liver Patient Dataset)                                                     225   \n",
      "Skin Segmentation                                                                       229   \n",
      "Individual Household Electric Power Consumption                                         235   \n",
      "Energy Efficiency                                                                       242   \n",
      "Fertility                                                                               244   \n",
      "ISTANBUL STOCK EXCHANGE                                                                 247   \n",
      "User Knowledge Modeling                                                                 257   \n",
      "EEG Eye State                                                                           264   \n",
      "Banknote Authentication                                                                 267   \n",
      "Gas Sensor Array Drift at Different Concentrations                                      270   \n",
      "Bike Sharing                                                                            275   \n",
      "Thoracic Surgery Data                                                                   277   \n",
      "Airfoil Self-Noise                                                                      291   \n",
      "Wholesale customers                                                                     292   \n",
      "Combined Cycle Power Plant                                                              294   \n",
      "Diabetes 130-US Hospitals for Years 1999-2008                                           296   \n",
      "Tennis Major Tournament Match Statistics                                                300   \n",
      "Dow Jones Index                                                                         312   \n",
      "Student Performance                                                                     320   \n",
      "Phishing Websites                                                                       327   \n",
      "Diabetic Retinopathy Debrecen                                                           329   \n",
      "Online News Popularity                                                                  332   \n",
      "Chronic Kidney Disease                                                                  336   \n",
      "Mice Protein Expression                                                                 342   \n",
      "Default of Credit Card Clients                                                          350   \n",
      "Online Retail                                                                           352   \n",
      "Occupancy Detection                                                                     357   \n",
      "Air Quality                                                                             360   \n",
      "Polish Companies Bankruptcy                                                             365   \n",
      "Dota2 Games Results                                                                     367   \n",
      "Facebook Metrics                                                                        368   \n",
      "HTRU2                                                                                   372   \n",
      "Drug Consumption (Quantified)                                                           373   \n",
      "Appliances Energy Prediction                                                            374   \n",
      "Website Phishing                                                                        379   \n",
      "YouTube Spam Collection                                                                 380   \n",
      "Beijing PM2.5                                                                           381   \n",
      "Cervical Cancer (Risk Factors)                                                          383   \n",
      "Stock Portfolio Performance                                                             390   \n",
      "Sales Transactions Weekly                                                               396   \n",
      "Daily Demand Forecasting Orders                                                         409   \n",
      "Autistic Spectrum Disorder Screening Data for Children                                  419   \n",
      "Autism Screening Adult                                                                  426   \n",
      "Absenteeism at work                                                                     445   \n",
      "Breast Cancer Coimbra                                                                   451   \n",
      "Drug Reviews (Druglib.com)                                                              461   \n",
      "Drug Reviews (Drugs.com)                                                                462   \n",
      "Superconductivty Data                                                                   464   \n",
      "Student Academics Performance                                                           467   \n",
      "Online Shoppers Purchasing Intention Dataset                                            468   \n",
      "Electrical Grid Stability Simulated Data                                                471   \n",
      "Real Estate Valuation                                                                   477   \n",
      "Travel Reviews                                                                          484   \n",
      "Travel Review Ratings                                                                   485   \n",
      "Facebook Live Sellers in Thailand                                                       488   \n",
      "Metro Interstate Traffic Volume                                                         492   \n",
      "Hepatitis C Virus (HCV) for Egyptian patients                                           503   \n",
      "Heart Failure Clinical Records                                                          519   \n",
      "Early Stage Diabetes Risk Prediction                                                    529   \n",
      "Pedestrians in Traffic                                                                  536   \n",
      "Cervical Cancer Behavior Risk                                                           537   \n",
      "Estimation of Obesity Levels Based On Eating Habits and Physical Condition              544   \n",
      "Rice (Cammeo and Osmancik)                                                              545   \n",
      "Algerian Forest Fires                                                                   547   \n",
      "Gas Turbine CO and NOx Emission Data Set                                                551   \n",
      "Apartment for Rent Classified                                                           555   \n",
      "Seoul Bike Sharing Demand                                                               560   \n",
      "Iranian Churn                                                                           563   \n",
      "Bone marrow transplant: children                                                        565   \n",
      "COVID-19 Surveillance                                                                   567   \n",
      "HCV data                                                                                571   \n",
      "Taiwanese Bankruptcy Prediction                                                         572   \n",
      "Myocardial infarction complications                                                     579   \n",
      "Student Performance on an Entrance Examination                                          582   \n",
      "Gender by Name                                                                          591   \n",
      "Productivity Prediction of Garment Employees                                            597   \n",
      "AI4I 2020 Predictive Maintenance Dataset                                                601   \n",
      "Dry Bean                                                                                602   \n",
      "In-Vehicle Coupon Recommendation                                                        603   \n",
      "Predict Students' Dropout and Academic Success                                          697   \n",
      "Auction Verification                                                                    713   \n",
      "NATICUSdroid (Android Permissions)                                                      722   \n",
      "Toxicity                                                                                728   \n",
      "DARWIN                                                                                  732   \n",
      "Accelerometer Gyro Mobile Phone                                                         755   \n",
      "Glioma Grading Clinical and Mutation Features                                           759   \n",
      "Multivariate Gait Data                                                                  760   \n",
      "Land Mines                                                                              763   \n",
      "Single Elder Home Monitoring: Gas and Position                                          799   \n",
      "Sepsis Survival Minimal Clinical Records                                                827   \n",
      "Secondary Mushroom                                                                      848   \n",
      "Power Consumption of Tetouan City                                                       849   \n",
      "Raisin                                                                                  850   \n",
      "Steel Industry Energy Consumption                                                       851   \n",
      "Higher Education Students Performance Evaluation                                        856   \n",
      "Risk Factor Prediction of Chronic Kidney Disease                                        857   \n",
      "Maternal Health Risk                                                                    863   \n",
      "Room Occupancy Estimation                                                               864   \n",
      "Cirrhosis Patient Survival Prediction                                                   878   \n",
      "SUPPORT2                                                                                880   \n",
      "National Health and Nutrition Health Survey 2013-2014 (NHANES) Age Prediction Subset    887   \n",
      "AIDS Clinical Trials Group Study 175                                                    890   \n",
      "CDC Diabetes Health Indicators                                                          891   \n",
      "Recipe Reviews and User Feedback                                                        911   \n",
      "Forty Soybean Cultivars from Subsequent Harvests                                        913   \n",
      "Differentiated Thyroid Cancer Recurrence                                                915   \n",
      "Infrared Thermography Temperature                                                       925   \n",
      "National Poll on Healthy Aging (NPHA)                                                   936   \n",
      "Regensburg Pediatric Appendicitis                                                       938   \n",
      "RT-IoT2022                                                                              942   \n",
      "PhiUSIIL Phishing URL (Website)                                                         967   \n",
      "\n"
     ]
    }
   ],
   "source": [
    "list_available_datasets()"
   ]
  },
  {
   "cell_type": "code",
   "execution_count": 77,
   "metadata": {},
   "outputs": [],
   "source": [
    "df = fetch_ucirepo(id=492)"
   ]
  },
  {
   "cell_type": "code",
   "execution_count": 86,
   "metadata": {},
   "outputs": [
    {
     "name": "stdout",
     "output_type": "stream",
     "text": [
      "<class 'ucimlrepo.dotdict.dotdict'>\n"
     ]
    }
   ],
   "source": [
    "print(type(df))\n",
    "\n",
    "# df[\"date_time\"]= pd.to_datetime(df[\"date_time\"])"
   ]
  },
  {
   "cell_type": "code",
   "execution_count": null,
   "metadata": {},
   "outputs": [
    {
     "name": "stdout",
     "output_type": "stream",
     "text": [
      "['holiday', 'temp', 'rain_1h', 'snow_1h', 'clouds_all', 'weather_main', 'weather_description', 'date_time']\n"
     ]
    }
   ],
   "source": [
    "X = df.data.features.copy()\n",
    "y = df.data.targets\n",
    "\n",
    "print(X.columns.tolist())\n"
   ]
  },
  {
   "cell_type": "markdown",
   "metadata": {},
   "source": [
    "### Using a cyclic Representation of time\n"
   ]
  },
  {
   "cell_type": "code",
   "execution_count": null,
   "metadata": {},
   "outputs": [],
   "source": [
    "X[\"date_time\"]= pd.to_datetime(X[\"date_time\"])\n",
    "\n",
    "X[\"hour\"] = X[\"date_time\"].dt.hour\n",
    "X[\"weekday\"] = X[\"date_time\"].dt.weekday\n",
    "X[\"month\"] = X[\"date_time\"].dt.month\n",
    "\n",
    "X[\"hour_sin\"] = np.sin(2 * np.pi * X[\"hour\"] / 24)\n",
    "X[\"hour_cos\"] = np.cos(2 * np.pi * X[\"hour\"] / 24)\n",
    "\n",
    "X[\"weekday\"] = X[\"date_time\"].dt.weekday  # Monday = 0\n",
    "X[\"weekday_sin\"] = np.sin(2 * np.pi * X[\"weekday\"] / 7)\n",
    "X[\"weekday_cos\"] = np.cos(2 * np.pi * X[\"weekday\"] / 7)\n",
    "\n",
    "X[\"month\"] = X[\"date_time\"].dt.month\n",
    "X[\"month_sin\"] = np.sin(2 * np.pi * X[\"month\"] / 12)\n",
    "X[\"month_cos\"] = np.cos(2 * np.pi * X[\"month\"] / 12)\n",
    "\n",
    "X = X.drop(columns=[\"hour\", \"weekday\", \"month\", \"date_time\"])"
   ]
  },
  {
   "cell_type": "code",
   "execution_count": 94,
   "metadata": {},
   "outputs": [
    {
     "name": "stdout",
     "output_type": "stream",
     "text": [
      "(48204, 13)\n"
     ]
    }
   ],
   "source": [
    "print(X.shape)"
   ]
  },
  {
   "cell_type": "code",
   "execution_count": 89,
   "metadata": {},
   "outputs": [
    {
     "name": "stdout",
     "output_type": "stream",
     "text": [
      "492\n",
      "48204\n",
      "Hourly Interstate 94 Westbound traffic volume for MN DoT ATR station 301, roughly midway between Minneapolis and St Paul, MN. Hourly weather features and holidays included for impacts on traffic volume.\n"
     ]
    }
   ],
   "source": [
    "print(df.metadata.uci_id)\n",
    "print(df.metadata.num_instances)\n",
    "print(df.metadata.additional_info.summary)"
   ]
  },
  {
   "cell_type": "code",
   "execution_count": 95,
   "metadata": {},
   "outputs": [
    {
     "name": "stdout",
     "output_type": "stream",
     "text": [
      "                  name     role         type demographic  \\\n",
      "0              holiday  Feature  Categorical        None   \n",
      "1                 temp  Feature   Continuous        None   \n",
      "2              rain_1h  Feature   Continuous        None   \n",
      "3              snow_1h  Feature   Continuous        None   \n",
      "4           clouds_all  Feature      Integer        None   \n",
      "5         weather_main  Feature  Categorical        None   \n",
      "6  weather_description  Feature  Categorical        None   \n",
      "7            date_time  Feature         Date        None   \n",
      "8       traffic_volume   Target      Integer        None   \n",
      "\n",
      "                                         description   units missing_values  \n",
      "0  US National holidays plus regional holiday, Mi...    None             no  \n",
      "1                             Average temp in kelvin  Kelvin             no  \n",
      "2     Amount in mm of rain that occurred in the hour      mm             no  \n",
      "3     Amount in mm of snow that occurred in the hour      mm             no  \n",
      "4                          Percentage of cloud cover       %             no  \n",
      "5   Short textual description of the current weather    None             no  \n",
      "6  Longer textual description of the current weather    None             no  \n",
      "7       Hour of the data collected in local CST time    None             no  \n",
      "8  Hourly I-94 ATR 301 reported westbound traffic...    None             no  \n"
     ]
    }
   ],
   "source": [
    "print(df.variables)"
   ]
  },
  {
   "cell_type": "code",
   "execution_count": 96,
   "metadata": {},
   "outputs": [
    {
     "name": "stdout",
     "output_type": "stream",
     "text": [
      "<class 'pandas.core.frame.DataFrame'>\n",
      "  holiday    temp  rain_1h  snow_1h  clouds_all weather_main  \\\n",
      "0     NaN  288.28      0.0      0.0          40       Clouds   \n",
      "1     NaN  289.36      0.0      0.0          75       Clouds   \n",
      "2     NaN  289.58      0.0      0.0          90       Clouds   \n",
      "3     NaN  290.13      0.0      0.0          90       Clouds   \n",
      "4     NaN  291.14      0.0      0.0          75       Clouds   \n",
      "\n",
      "  weather_description      hour_sin  hour_cos  weekday_sin  weekday_cos  \\\n",
      "0    scattered clouds  7.071068e-01 -0.707107     0.781831      0.62349   \n",
      "1       broken clouds  5.000000e-01 -0.866025     0.781831      0.62349   \n",
      "2     overcast clouds  2.588190e-01 -0.965926     0.781831      0.62349   \n",
      "3     overcast clouds  1.224647e-16 -1.000000     0.781831      0.62349   \n",
      "4       broken clouds -2.588190e-01 -0.965926     0.781831      0.62349   \n",
      "\n",
      "   month_sin  month_cos  \n",
      "0  -0.866025        0.5  \n",
      "1  -0.866025        0.5  \n",
      "2  -0.866025        0.5  \n",
      "3  -0.866025        0.5  \n",
      "4  -0.866025        0.5  \n"
     ]
    }
   ],
   "source": [
    "print(type(X))\n",
    "print(X.head())"
   ]
  },
  {
   "cell_type": "code",
   "execution_count": 65,
   "metadata": {},
   "outputs": [
    {
     "data": {
      "text/plain": [
       "array([<Axes: >, <Axes: >, <Axes: >, <Axes: >], dtype=object)"
      ]
     },
     "execution_count": 65,
     "metadata": {},
     "output_type": "execute_result"
    },
    {
     "data": {
      "image/png": "[encoded data removed]",
      "text/plain": [
       "<Figure size 1000x2000 with 4 Axes>"
      ]
     },
     "metadata": {},
     "output_type": "display_data"
    }
   ],
   "source": [
    "X.plot.area(figsize=(10,20), subplots=True)"
   ]
  },
  {
   "cell_type": "code",
   "execution_count": 66,
   "metadata": {},
   "outputs": [
    {
     "name": "stdout",
     "output_type": "stream",
     "text": [
      "holiday    48143\n",
      "dtype: int64\n"
     ]
    }
   ],
   "source": [
    "missing_counts = X.isnull().sum()\n",
    "print(missing_counts[missing_counts > 0])"
   ]
  },
  {
   "cell_type": "code",
   "execution_count": 98,
   "metadata": {},
   "outputs": [
    {
     "name": "stdout",
     "output_type": "stream",
     "text": [
      "(48204, 12)\n"
     ]
    },
    {
     "data": {
      "text/html": [
       "<div>\n",
       "<style scoped>\n",
       "    .dataframe tbody tr th:only-of-type {\n",
       "        vertical-align: middle;\n",
       "    }\n",
       "\n",
       "    .dataframe tbody tr th {\n",
       "        vertical-align: top;\n",
       "    }\n",
       "\n",
       "    .dataframe thead th {\n",
       "        text-align: right;\n",
       "    }\n",
       "</style>\n",
       "<table border=\"1\" class=\"dataframe\">\n",
       "  <thead>\n",
       "    <tr style=\"text-align: right;\">\n",
       "      <th></th>\n",
       "      <th>temp</th>\n",
       "      <th>rain_1h</th>\n",
       "      <th>snow_1h</th>\n",
       "      <th>clouds_all</th>\n",
       "      <th>weather_main</th>\n",
       "      <th>weather_description</th>\n",
       "      <th>hour_sin</th>\n",
       "      <th>hour_cos</th>\n",
       "      <th>weekday_sin</th>\n",
       "      <th>weekday_cos</th>\n",
       "      <th>month_sin</th>\n",
       "      <th>month_cos</th>\n",
       "    </tr>\n",
       "  </thead>\n",
       "  <tbody>\n",
       "    <tr>\n",
       "      <th>0</th>\n",
       "      <td>288.28</td>\n",
       "      <td>0.0</td>\n",
       "      <td>0.0</td>\n",
       "      <td>40</td>\n",
       "      <td>Clouds</td>\n",
       "      <td>scattered clouds</td>\n",
       "      <td>7.071068e-01</td>\n",
       "      <td>-0.707107</td>\n",
       "      <td>0.781831</td>\n",
       "      <td>0.62349</td>\n",
       "      <td>-0.866025</td>\n",
       "      <td>0.5</td>\n",
       "    </tr>\n",
       "    <tr>\n",
       "      <th>1</th>\n",
       "      <td>289.36</td>\n",
       "      <td>0.0</td>\n",
       "      <td>0.0</td>\n",
       "      <td>75</td>\n",
       "      <td>Clouds</td>\n",
       "      <td>broken clouds</td>\n",
       "      <td>5.000000e-01</td>\n",
       "      <td>-0.866025</td>\n",
       "      <td>0.781831</td>\n",
       "      <td>0.62349</td>\n",
       "      <td>-0.866025</td>\n",
       "      <td>0.5</td>\n",
       "    </tr>\n",
       "    <tr>\n",
       "      <th>2</th>\n",
       "      <td>289.58</td>\n",
       "      <td>0.0</td>\n",
       "      <td>0.0</td>\n",
       "      <td>90</td>\n",
       "      <td>Clouds</td>\n",
       "      <td>overcast clouds</td>\n",
       "      <td>2.588190e-01</td>\n",
       "      <td>-0.965926</td>\n",
       "      <td>0.781831</td>\n",
       "      <td>0.62349</td>\n",
       "      <td>-0.866025</td>\n",
       "      <td>0.5</td>\n",
       "    </tr>\n",
       "    <tr>\n",
       "      <th>3</th>\n",
       "      <td>290.13</td>\n",
       "      <td>0.0</td>\n",
       "      <td>0.0</td>\n",
       "      <td>90</td>\n",
       "      <td>Clouds</td>\n",
       "      <td>overcast clouds</td>\n",
       "      <td>1.224647e-16</td>\n",
       "      <td>-1.000000</td>\n",
       "      <td>0.781831</td>\n",
       "      <td>0.62349</td>\n",
       "      <td>-0.866025</td>\n",
       "      <td>0.5</td>\n",
       "    </tr>\n",
       "    <tr>\n",
       "      <th>4</th>\n",
       "      <td>291.14</td>\n",
       "      <td>0.0</td>\n",
       "      <td>0.0</td>\n",
       "      <td>75</td>\n",
       "      <td>Clouds</td>\n",
       "      <td>broken clouds</td>\n",
       "      <td>-2.588190e-01</td>\n",
       "      <td>-0.965926</td>\n",
       "      <td>0.781831</td>\n",
       "      <td>0.62349</td>\n",
       "      <td>-0.866025</td>\n",
       "      <td>0.5</td>\n",
       "    </tr>\n",
       "  </tbody>\n",
       "</table>\n",
       "</div>"
      ],
      "text/plain": [
       "     temp  rain_1h  snow_1h  clouds_all weather_main weather_description  \\\n",
       "0  288.28      0.0      0.0          40       Clouds    scattered clouds   \n",
       "1  289.36      0.0      0.0          75       Clouds       broken clouds   \n",
       "2  289.58      0.0      0.0          90       Clouds     overcast clouds   \n",
       "3  290.13      0.0      0.0          90       Clouds     overcast clouds   \n",
       "4  291.14      0.0      0.0          75       Clouds       broken clouds   \n",
       "\n",
       "       hour_sin  hour_cos  weekday_sin  weekday_cos  month_sin  month_cos  \n",
       "0  7.071068e-01 -0.707107     0.781831      0.62349  -0.866025        0.5  \n",
       "1  5.000000e-01 -0.866025     0.781831      0.62349  -0.866025        0.5  \n",
       "2  2.588190e-01 -0.965926     0.781831      0.62349  -0.866025        0.5  \n",
       "3  1.224647e-16 -1.000000     0.781831      0.62349  -0.866025        0.5  \n",
       "4 -2.588190e-01 -0.965926     0.781831      0.62349  -0.866025        0.5  "
      ]
     },
     "execution_count": 98,
     "metadata": {},
     "output_type": "execute_result"
    }
   ],
   "source": [
    "X_clean = X.dropna(axis=1)\n",
    "print(X_clean.shape)  \n",
    "X_clean.head()  "
   ]
  },
  {
   "cell_type": "code",
   "execution_count": null,
   "metadata": {},
   "outputs": [
    {
     "ename": "KeyError",
     "evalue": "\"['weather_main', 'weather_description'] not found in axis\"",
     "output_type": "error",
     "traceback": [
      "\u001b[1;31m---------------------------------------------------------------------------\u001b[0m",
      "\u001b[1;31mKeyError\u001b[0m                                  Traceback (most recent call last)",
      "Cell \u001b[1;32mIn[101], line 1\u001b[0m\n\u001b[1;32m----> 1\u001b[0m X \u001b[38;5;241m=\u001b[39m \u001b[43mX\u001b[49m\u001b[38;5;241;43m.\u001b[39;49m\u001b[43mdrop\u001b[49m\u001b[43m(\u001b[49m\u001b[43mcolumns\u001b[49m\u001b[38;5;241;43m=\u001b[39;49m\u001b[43m[\u001b[49m\u001b[38;5;124;43m\"\u001b[39;49m\u001b[38;5;124;43mweather_main\u001b[39;49m\u001b[38;5;124;43m\"\u001b[39;49m\u001b[43m,\u001b[49m\u001b[43m \u001b[49m\u001b[38;5;124;43m\"\u001b[39;49m\u001b[38;5;124;43mweather_description\u001b[39;49m\u001b[38;5;124;43m\"\u001b[39;49m\u001b[43m]\u001b[49m\u001b[43m)\u001b[49m\n",
      "File \u001b[1;32m~\\AppData\\Roaming\\Python\\Python312\\site-packages\\pandas\\core\\frame.py:5581\u001b[0m, in \u001b[0;36mDataFrame.drop\u001b[1;34m(self, labels, axis, index, columns, level, inplace, errors)\u001b[0m\n\u001b[0;32m   5433\u001b[0m \u001b[38;5;28;01mdef\u001b[39;00m \u001b[38;5;21mdrop\u001b[39m(\n\u001b[0;32m   5434\u001b[0m     \u001b[38;5;28mself\u001b[39m,\n\u001b[0;32m   5435\u001b[0m     labels: IndexLabel \u001b[38;5;241m|\u001b[39m \u001b[38;5;28;01mNone\u001b[39;00m \u001b[38;5;241m=\u001b[39m \u001b[38;5;28;01mNone\u001b[39;00m,\n\u001b[1;32m   (...)\u001b[0m\n\u001b[0;32m   5442\u001b[0m     errors: IgnoreRaise \u001b[38;5;241m=\u001b[39m \u001b[38;5;124m\"\u001b[39m\u001b[38;5;124mraise\u001b[39m\u001b[38;5;124m\"\u001b[39m,\n\u001b[0;32m   5443\u001b[0m ) \u001b[38;5;241m-\u001b[39m\u001b[38;5;241m>\u001b[39m DataFrame \u001b[38;5;241m|\u001b[39m \u001b[38;5;28;01mNone\u001b[39;00m:\n\u001b[0;32m   5444\u001b[0m \u001b[38;5;250m    \u001b[39m\u001b[38;5;124;03m\"\"\"\u001b[39;00m\n\u001b[0;32m   5445\u001b[0m \u001b[38;5;124;03m    Drop specified labels from rows or columns.\u001b[39;00m\n\u001b[0;32m   5446\u001b[0m \n\u001b[1;32m   (...)\u001b[0m\n\u001b[0;32m   5579\u001b[0m \u001b[38;5;124;03m            weight  1.0     0.8\u001b[39;00m\n\u001b[0;32m   5580\u001b[0m \u001b[38;5;124;03m    \"\"\"\u001b[39;00m\n\u001b[1;32m-> 5581\u001b[0m     \u001b[38;5;28;01mreturn\u001b[39;00m \u001b[38;5;28;43msuper\u001b[39;49m\u001b[43m(\u001b[49m\u001b[43m)\u001b[49m\u001b[38;5;241;43m.\u001b[39;49m\u001b[43mdrop\u001b[49m\u001b[43m(\u001b[49m\n\u001b[0;32m   5582\u001b[0m \u001b[43m        \u001b[49m\u001b[43mlabels\u001b[49m\u001b[38;5;241;43m=\u001b[39;49m\u001b[43mlabels\u001b[49m\u001b[43m,\u001b[49m\n\u001b[0;32m   5583\u001b[0m \u001b[43m        \u001b[49m\u001b[43maxis\u001b[49m\u001b[38;5;241;43m=\u001b[39;49m\u001b[43maxis\u001b[49m\u001b[43m,\u001b[49m\n\u001b[0;32m   5584\u001b[0m \u001b[43m        \u001b[49m\u001b[43mindex\u001b[49m\u001b[38;5;241;43m=\u001b[39;49m\u001b[43mindex\u001b[49m\u001b[43m,\u001b[49m\n\u001b[0;32m   5585\u001b[0m \u001b[43m        \u001b[49m\u001b[43mcolumns\u001b[49m\u001b[38;5;241;43m=\u001b[39;49m\u001b[43mcolumns\u001b[49m\u001b[43m,\u001b[49m\n\u001b[0;32m   5586\u001b[0m \u001b[43m        \u001b[49m\u001b[43mlevel\u001b[49m\u001b[38;5;241;43m=\u001b[39;49m\u001b[43mlevel\u001b[49m\u001b[43m,\u001b[49m\n\u001b[0;32m   5587\u001b[0m \u001b[43m        \u001b[49m\u001b[43minplace\u001b[49m\u001b[38;5;241;43m=\u001b[39;49m\u001b[43minplace\u001b[49m\u001b[43m,\u001b[49m\n\u001b[0;32m   5588\u001b[0m \u001b[43m        \u001b[49m\u001b[43merrors\u001b[49m\u001b[38;5;241;43m=\u001b[39;49m\u001b[43merrors\u001b[49m\u001b[43m,\u001b[49m\n\u001b[0;32m   5589\u001b[0m \u001b[43m    \u001b[49m\u001b[43m)\u001b[49m\n",
      "File \u001b[1;32m~\\AppData\\Roaming\\Python\\Python312\\site-packages\\pandas\\core\\generic.py:4788\u001b[0m, in \u001b[0;36mNDFrame.drop\u001b[1;34m(self, labels, axis, index, columns, level, inplace, errors)\u001b[0m\n\u001b[0;32m   4786\u001b[0m \u001b[38;5;28;01mfor\u001b[39;00m axis, labels \u001b[38;5;129;01min\u001b[39;00m axes\u001b[38;5;241m.\u001b[39mitems():\n\u001b[0;32m   4787\u001b[0m     \u001b[38;5;28;01mif\u001b[39;00m labels \u001b[38;5;129;01mis\u001b[39;00m \u001b[38;5;129;01mnot\u001b[39;00m \u001b[38;5;28;01mNone\u001b[39;00m:\n\u001b[1;32m-> 4788\u001b[0m         obj \u001b[38;5;241m=\u001b[39m \u001b[43mobj\u001b[49m\u001b[38;5;241;43m.\u001b[39;49m\u001b[43m_drop_axis\u001b[49m\u001b[43m(\u001b[49m\u001b[43mlabels\u001b[49m\u001b[43m,\u001b[49m\u001b[43m \u001b[49m\u001b[43maxis\u001b[49m\u001b[43m,\u001b[49m\u001b[43m \u001b[49m\u001b[43mlevel\u001b[49m\u001b[38;5;241;43m=\u001b[39;49m\u001b[43mlevel\u001b[49m\u001b[43m,\u001b[49m\u001b[43m \u001b[49m\u001b[43merrors\u001b[49m\u001b[38;5;241;43m=\u001b[39;49m\u001b[43merrors\u001b[49m\u001b[43m)\u001b[49m\n\u001b[0;32m   4790\u001b[0m \u001b[38;5;28;01mif\u001b[39;00m inplace:\n\u001b[0;32m   4791\u001b[0m     \u001b[38;5;28mself\u001b[39m\u001b[38;5;241m.\u001b[39m_update_inplace(obj)\n",
      "File \u001b[1;32m~\\AppData\\Roaming\\Python\\Python312\\site-packages\\pandas\\core\\generic.py:4830\u001b[0m, in \u001b[0;36mNDFrame._drop_axis\u001b[1;34m(self, labels, axis, level, errors, only_slice)\u001b[0m\n\u001b[0;32m   4828\u001b[0m         new_axis \u001b[38;5;241m=\u001b[39m axis\u001b[38;5;241m.\u001b[39mdrop(labels, level\u001b[38;5;241m=\u001b[39mlevel, errors\u001b[38;5;241m=\u001b[39merrors)\n\u001b[0;32m   4829\u001b[0m     \u001b[38;5;28;01melse\u001b[39;00m:\n\u001b[1;32m-> 4830\u001b[0m         new_axis \u001b[38;5;241m=\u001b[39m \u001b[43maxis\u001b[49m\u001b[38;5;241;43m.\u001b[39;49m\u001b[43mdrop\u001b[49m\u001b[43m(\u001b[49m\u001b[43mlabels\u001b[49m\u001b[43m,\u001b[49m\u001b[43m \u001b[49m\u001b[43merrors\u001b[49m\u001b[38;5;241;43m=\u001b[39;49m\u001b[43merrors\u001b[49m\u001b[43m)\u001b[49m\n\u001b[0;32m   4831\u001b[0m     indexer \u001b[38;5;241m=\u001b[39m axis\u001b[38;5;241m.\u001b[39mget_indexer(new_axis)\n\u001b[0;32m   4833\u001b[0m \u001b[38;5;66;03m# Case for non-unique axis\u001b[39;00m\n\u001b[0;32m   4834\u001b[0m \u001b[38;5;28;01melse\u001b[39;00m:\n",
      "File \u001b[1;32m~\\AppData\\Roaming\\Python\\Python312\\site-packages\\pandas\\core\\indexes\\base.py:7070\u001b[0m, in \u001b[0;36mIndex.drop\u001b[1;34m(self, labels, errors)\u001b[0m\n\u001b[0;32m   7068\u001b[0m \u001b[38;5;28;01mif\u001b[39;00m mask\u001b[38;5;241m.\u001b[39many():\n\u001b[0;32m   7069\u001b[0m     \u001b[38;5;28;01mif\u001b[39;00m errors \u001b[38;5;241m!=\u001b[39m \u001b[38;5;124m\"\u001b[39m\u001b[38;5;124mignore\u001b[39m\u001b[38;5;124m\"\u001b[39m:\n\u001b[1;32m-> 7070\u001b[0m         \u001b[38;5;28;01mraise\u001b[39;00m \u001b[38;5;167;01mKeyError\u001b[39;00m(\u001b[38;5;124mf\u001b[39m\u001b[38;5;124m\"\u001b[39m\u001b[38;5;132;01m{\u001b[39;00mlabels[mask]\u001b[38;5;241m.\u001b[39mtolist()\u001b[38;5;132;01m}\u001b[39;00m\u001b[38;5;124m not found in axis\u001b[39m\u001b[38;5;124m\"\u001b[39m)\n\u001b[0;32m   7071\u001b[0m     indexer \u001b[38;5;241m=\u001b[39m indexer[\u001b[38;5;241m~\u001b[39mmask]\n\u001b[0;32m   7072\u001b[0m \u001b[38;5;28;01mreturn\u001b[39;00m \u001b[38;5;28mself\u001b[39m\u001b[38;5;241m.\u001b[39mdelete(indexer)\n",
      "\u001b[1;31mKeyError\u001b[0m: \"['weather_main', 'weather_description'] not found in axis\""
     ]
    }
   ],
   "source": [
    "X_clean = X_clean.drop(columns=[\"weather_main\", \"weather_description\"])"
   ]
  },
  {
   "cell_type": "code",
   "execution_count": 100,
   "metadata": {},
   "outputs": [
    {
     "name": "stdout",
     "output_type": "stream",
     "text": [
      "(48204, 1)\n",
      "   traffic_volume\n",
      "0            5545\n",
      "1            4516\n",
      "2            4767\n",
      "3            5026\n",
      "4            4918\n"
     ]
    }
   ],
   "source": [
    "print(y.shape)\n",
    "print(y.head())\n"
   ]
  },
  {
   "cell_type": "markdown",
   "metadata": {},
   "source": [
    "### Convert Data to a useful format for PyTorch"
   ]
  },
  {
   "cell_type": "code",
   "execution_count": null,
   "metadata": {},
   "outputs": [
    {
     "ename": "KeyError",
     "evalue": "'income'",
     "output_type": "error",
     "traceback": [
      "\u001b[1;31m---------------------------------------------------------------------------\u001b[0m",
      "\u001b[1;31mKeyError\u001b[0m                                  Traceback (most recent call last)",
      "File \u001b[1;32m~\\AppData\\Roaming\\Python\\Python312\\site-packages\\pandas\\core\\indexes\\base.py:3805\u001b[0m, in \u001b[0;36mIndex.get_loc\u001b[1;34m(self, key)\u001b[0m\n\u001b[0;32m   3804\u001b[0m \u001b[38;5;28;01mtry\u001b[39;00m:\n\u001b[1;32m-> 3805\u001b[0m     \u001b[38;5;28;01mreturn\u001b[39;00m \u001b[38;5;28;43mself\u001b[39;49m\u001b[38;5;241;43m.\u001b[39;49m\u001b[43m_engine\u001b[49m\u001b[38;5;241;43m.\u001b[39;49m\u001b[43mget_loc\u001b[49m\u001b[43m(\u001b[49m\u001b[43mcasted_key\u001b[49m\u001b[43m)\u001b[49m\n\u001b[0;32m   3806\u001b[0m \u001b[38;5;28;01mexcept\u001b[39;00m \u001b[38;5;167;01mKeyError\u001b[39;00m \u001b[38;5;28;01mas\u001b[39;00m err:\n",
      "File \u001b[1;32mindex.pyx:167\u001b[0m, in \u001b[0;36mpandas._libs.index.IndexEngine.get_loc\u001b[1;34m()\u001b[0m\n",
      "File \u001b[1;32mindex.pyx:196\u001b[0m, in \u001b[0;36mpandas._libs.index.IndexEngine.get_loc\u001b[1;34m()\u001b[0m\n",
      "File \u001b[1;32mpandas\\\\_libs\\\\hashtable_class_helper.pxi:7081\u001b[0m, in \u001b[0;36mpandas._libs.hashtable.PyObjectHashTable.get_item\u001b[1;34m()\u001b[0m\n",
      "File \u001b[1;32mpandas\\\\_libs\\\\hashtable_class_helper.pxi:7089\u001b[0m, in \u001b[0;36mpandas._libs.hashtable.PyObjectHashTable.get_item\u001b[1;34m()\u001b[0m\n",
      "\u001b[1;31mKeyError\u001b[0m: 'income'",
      "\nThe above exception was the direct cause of the following exception:\n",
      "\u001b[1;31mKeyError\u001b[0m                                  Traceback (most recent call last)",
      "Cell \u001b[1;32mIn[70], line 1\u001b[0m\n\u001b[1;32m----> 1\u001b[0m y_binary \u001b[38;5;241m=\u001b[39m (\u001b[43my\u001b[49m\u001b[43m[\u001b[49m\u001b[38;5;124;43m'\u001b[39;49m\u001b[38;5;124;43mincome\u001b[39;49m\u001b[38;5;124;43m'\u001b[39;49m\u001b[43m]\u001b[49m \u001b[38;5;241m==\u001b[39m \u001b[38;5;124m'\u001b[39m\u001b[38;5;124m>50K\u001b[39m\u001b[38;5;124m'\u001b[39m)\u001b[38;5;241m.\u001b[39mastype(\u001b[38;5;28mint\u001b[39m)\n\u001b[0;32m      2\u001b[0m \u001b[38;5;28mprint\u001b[39m(y_binary\u001b[38;5;241m.\u001b[39mvalue_counts())\n\u001b[0;32m      4\u001b[0m X_encoded \u001b[38;5;241m=\u001b[39m pd\u001b[38;5;241m.\u001b[39mget_dummies(X_clean)\n",
      "File \u001b[1;32m~\\AppData\\Roaming\\Python\\Python312\\site-packages\\pandas\\core\\frame.py:4102\u001b[0m, in \u001b[0;36mDataFrame.__getitem__\u001b[1;34m(self, key)\u001b[0m\n\u001b[0;32m   4100\u001b[0m \u001b[38;5;28;01mif\u001b[39;00m \u001b[38;5;28mself\u001b[39m\u001b[38;5;241m.\u001b[39mcolumns\u001b[38;5;241m.\u001b[39mnlevels \u001b[38;5;241m>\u001b[39m \u001b[38;5;241m1\u001b[39m:\n\u001b[0;32m   4101\u001b[0m     \u001b[38;5;28;01mreturn\u001b[39;00m \u001b[38;5;28mself\u001b[39m\u001b[38;5;241m.\u001b[39m_getitem_multilevel(key)\n\u001b[1;32m-> 4102\u001b[0m indexer \u001b[38;5;241m=\u001b[39m \u001b[38;5;28;43mself\u001b[39;49m\u001b[38;5;241;43m.\u001b[39;49m\u001b[43mcolumns\u001b[49m\u001b[38;5;241;43m.\u001b[39;49m\u001b[43mget_loc\u001b[49m\u001b[43m(\u001b[49m\u001b[43mkey\u001b[49m\u001b[43m)\u001b[49m\n\u001b[0;32m   4103\u001b[0m \u001b[38;5;28;01mif\u001b[39;00m is_integer(indexer):\n\u001b[0;32m   4104\u001b[0m     indexer \u001b[38;5;241m=\u001b[39m [indexer]\n",
      "File \u001b[1;32m~\\AppData\\Roaming\\Python\\Python312\\site-packages\\pandas\\core\\indexes\\base.py:3812\u001b[0m, in \u001b[0;36mIndex.get_loc\u001b[1;34m(self, key)\u001b[0m\n\u001b[0;32m   3807\u001b[0m     \u001b[38;5;28;01mif\u001b[39;00m \u001b[38;5;28misinstance\u001b[39m(casted_key, \u001b[38;5;28mslice\u001b[39m) \u001b[38;5;129;01mor\u001b[39;00m (\n\u001b[0;32m   3808\u001b[0m         \u001b[38;5;28misinstance\u001b[39m(casted_key, abc\u001b[38;5;241m.\u001b[39mIterable)\n\u001b[0;32m   3809\u001b[0m         \u001b[38;5;129;01mand\u001b[39;00m \u001b[38;5;28many\u001b[39m(\u001b[38;5;28misinstance\u001b[39m(x, \u001b[38;5;28mslice\u001b[39m) \u001b[38;5;28;01mfor\u001b[39;00m x \u001b[38;5;129;01min\u001b[39;00m casted_key)\n\u001b[0;32m   3810\u001b[0m     ):\n\u001b[0;32m   3811\u001b[0m         \u001b[38;5;28;01mraise\u001b[39;00m InvalidIndexError(key)\n\u001b[1;32m-> 3812\u001b[0m     \u001b[38;5;28;01mraise\u001b[39;00m \u001b[38;5;167;01mKeyError\u001b[39;00m(key) \u001b[38;5;28;01mfrom\u001b[39;00m \u001b[38;5;21;01merr\u001b[39;00m\n\u001b[0;32m   3813\u001b[0m \u001b[38;5;28;01mexcept\u001b[39;00m \u001b[38;5;167;01mTypeError\u001b[39;00m:\n\u001b[0;32m   3814\u001b[0m     \u001b[38;5;66;03m# If we have a listlike key, _check_indexing_error will raise\u001b[39;00m\n\u001b[0;32m   3815\u001b[0m     \u001b[38;5;66;03m#  InvalidIndexError. Otherwise we fall through and re-raise\u001b[39;00m\n\u001b[0;32m   3816\u001b[0m     \u001b[38;5;66;03m#  the TypeError.\u001b[39;00m\n\u001b[0;32m   3817\u001b[0m     \u001b[38;5;28mself\u001b[39m\u001b[38;5;241m.\u001b[39m_check_indexing_error(key)\n",
      "\u001b[1;31mKeyError\u001b[0m: 'income'"
     ]
    }
   ],
   "source": [
    "\n",
    "print(y_binary.value_counts())\n",
    "\n",
    "X_encoded = pd.get_dummies(X_clean)\n",
    "print(X_encoded)\n",
    "\n",
    "\n",
    "X_np = X_encoded.to_numpy().astype('float32')\n",
    "y_np = y_binary.to_numpy().astype('float32')\n",
    "\n",
    "\n",
    "X_tensor = torch.from_numpy(X_np)\n",
    "y_tensor = torch.from_numpy(y_np)\n",
    "\n",
    "print(X_tensor.shape)\n",
    "print(y_tensor.shape)\n"
   ]
  }
 ],
 "metadata": {
  "kernelspec": {
   "display_name": "Python 3",
   "language": "python",
   "name": "python3"
  },
  "language_info": {
   "codemirror_mode": {
    "name": "ipython",
    "version": 3
   },
   "file_extension": ".py",
   "mimetype": "text/x-python",
   "name": "python",
   "nbconvert_exporter": "python",
   "pygments_lexer": "ipython3",
   "version": "3.12.3"
  }
 },
 "nbformat": 4,
 "nbformat_minor": 2
}
